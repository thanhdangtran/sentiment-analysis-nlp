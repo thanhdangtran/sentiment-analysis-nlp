{
 "cells": [
  {
   "cell_type": "markdown",
   "metadata": {},
   "source": [
    "# **Amazon Fine Food Reviews**"
   ]
  },
  {
   "cell_type": "markdown",
   "metadata": {},
   "source": [
    "## Project Overview"
   ]
  },
  {
   "attachments": {},
   "cell_type": "markdown",
   "metadata": {},
   "source": [
    "Use 2 sentiment analysis techniques: VADER ROBERTA to evaluate positive and negative reviews. Then find the advantages and disadvantages of them"
   ]
  },
  {
   "cell_type": "markdown",
   "metadata": {},
   "source": [
    "## Data Description"
   ]
  },
  {
   "cell_type": "markdown",
   "metadata": {},
   "source": [
    "This dataset consists of reviews of fine foods from amazon. The data span a period of more than 10 years, including all ~500,000 reviews up to October 2012. Reviews include product and user information, ratings, and a plain text review. It also includes reviews from all other Amazon categories.\n",
    "\n",
    "Data includes:\n",
    "- Reviews from Oct 1999 - Oct 2012\n",
    "- 568,454 reviews\n",
    "- 256,059 users\n",
    "- 74,258 products\n",
    "- 260 users with > 50 reviews\n",
    "\n",
    "Data link: [Kaggle](https://www.kaggle.com/datasets/snap/amazon-fine-food-reviews)"
   ]
  },
  {
   "cell_type": "markdown",
   "metadata": {},
   "source": [
    "## EDA Goals"
   ]
  },
  {
   "attachments": {},
   "cell_type": "markdown",
   "metadata": {},
   "source": [
    "To determine whether reviews are positive, negative, or neutral, I'll using 2 natural language processing (NLP) techniques following:\n",
    "- VADER (Valence Aware Dictionary and sEntiment Reasoner). Detail link: [VADER](https://github.com/cjhutto/vaderSentiment)\n",
    "- RoBERTa-base for Sentiment Analysis. Detail link: [RoBERTa](https://huggingface.co/cardiffnlp/twitter-roberta-base-sentiment)   "
   ]
  },
  {
   "cell_type": "markdown",
   "metadata": {},
   "source": [
    "## Exploratory Data Analysis"
   ]
  },
  {
   "cell_type": "code",
   "execution_count": 2,
   "metadata": {},
   "outputs": [],
   "source": [
    "# Import the libraries\n",
    "import pandas as pd\n",
    "import numpy as np\n",
    "import seaborn as sns\n",
    "import matplotlib.pyplot as plt"
   ]
  },
  {
   "cell_type": "code",
   "execution_count": 3,
   "metadata": {},
   "outputs": [
    {
     "data": {
      "text/html": [
       "<div>\n",
       "<style scoped>\n",
       "    .dataframe tbody tr th:only-of-type {\n",
       "        vertical-align: middle;\n",
       "    }\n",
       "\n",
       "    .dataframe tbody tr th {\n",
       "        vertical-align: top;\n",
       "    }\n",
       "\n",
       "    .dataframe thead th {\n",
       "        text-align: right;\n",
       "    }\n",
       "</style>\n",
       "<table border=\"1\" class=\"dataframe\">\n",
       "  <thead>\n",
       "    <tr style=\"text-align: right;\">\n",
       "      <th></th>\n",
       "      <th>Id</th>\n",
       "      <th>ProductId</th>\n",
       "      <th>UserId</th>\n",
       "      <th>ProfileName</th>\n",
       "      <th>HelpfulnessNumerator</th>\n",
       "      <th>HelpfulnessDenominator</th>\n",
       "      <th>Score</th>\n",
       "      <th>Time</th>\n",
       "      <th>Summary</th>\n",
       "      <th>Text</th>\n",
       "    </tr>\n",
       "  </thead>\n",
       "  <tbody>\n",
       "    <tr>\n",
       "      <th>0</th>\n",
       "      <td>1</td>\n",
       "      <td>B001E4KFG0</td>\n",
       "      <td>A3SGXH7AUHU8GW</td>\n",
       "      <td>delmartian</td>\n",
       "      <td>1</td>\n",
       "      <td>1</td>\n",
       "      <td>5</td>\n",
       "      <td>1303862400</td>\n",
       "      <td>Good Quality Dog Food</td>\n",
       "      <td>I have bought several of the Vitality canned d...</td>\n",
       "    </tr>\n",
       "    <tr>\n",
       "      <th>1</th>\n",
       "      <td>2</td>\n",
       "      <td>B00813GRG4</td>\n",
       "      <td>A1D87F6ZCVE5NK</td>\n",
       "      <td>dll pa</td>\n",
       "      <td>0</td>\n",
       "      <td>0</td>\n",
       "      <td>1</td>\n",
       "      <td>1346976000</td>\n",
       "      <td>Not as Advertised</td>\n",
       "      <td>Product arrived labeled as Jumbo Salted Peanut...</td>\n",
       "    </tr>\n",
       "    <tr>\n",
       "      <th>2</th>\n",
       "      <td>3</td>\n",
       "      <td>B000LQOCH0</td>\n",
       "      <td>ABXLMWJIXXAIN</td>\n",
       "      <td>Natalia Corres \"Natalia Corres\"</td>\n",
       "      <td>1</td>\n",
       "      <td>1</td>\n",
       "      <td>4</td>\n",
       "      <td>1219017600</td>\n",
       "      <td>\"Delight\" says it all</td>\n",
       "      <td>This is a confection that has been around a fe...</td>\n",
       "    </tr>\n",
       "    <tr>\n",
       "      <th>3</th>\n",
       "      <td>4</td>\n",
       "      <td>B000UA0QIQ</td>\n",
       "      <td>A395BORC6FGVXV</td>\n",
       "      <td>Karl</td>\n",
       "      <td>3</td>\n",
       "      <td>3</td>\n",
       "      <td>2</td>\n",
       "      <td>1307923200</td>\n",
       "      <td>Cough Medicine</td>\n",
       "      <td>If you are looking for the secret ingredient i...</td>\n",
       "    </tr>\n",
       "    <tr>\n",
       "      <th>4</th>\n",
       "      <td>5</td>\n",
       "      <td>B006K2ZZ7K</td>\n",
       "      <td>A1UQRSCLF8GW1T</td>\n",
       "      <td>Michael D. Bigham \"M. Wassir\"</td>\n",
       "      <td>0</td>\n",
       "      <td>0</td>\n",
       "      <td>5</td>\n",
       "      <td>1350777600</td>\n",
       "      <td>Great taffy</td>\n",
       "      <td>Great taffy at a great price.  There was a wid...</td>\n",
       "    </tr>\n",
       "  </tbody>\n",
       "</table>\n",
       "</div>"
      ],
      "text/plain": [
       "   Id   ProductId          UserId                      ProfileName  \\\n",
       "0   1  B001E4KFG0  A3SGXH7AUHU8GW                       delmartian   \n",
       "1   2  B00813GRG4  A1D87F6ZCVE5NK                           dll pa   \n",
       "2   3  B000LQOCH0   ABXLMWJIXXAIN  Natalia Corres \"Natalia Corres\"   \n",
       "3   4  B000UA0QIQ  A395BORC6FGVXV                             Karl   \n",
       "4   5  B006K2ZZ7K  A1UQRSCLF8GW1T    Michael D. Bigham \"M. Wassir\"   \n",
       "\n",
       "   HelpfulnessNumerator  HelpfulnessDenominator  Score        Time  \\\n",
       "0                     1                       1      5  1303862400   \n",
       "1                     0                       0      1  1346976000   \n",
       "2                     1                       1      4  1219017600   \n",
       "3                     3                       3      2  1307923200   \n",
       "4                     0                       0      5  1350777600   \n",
       "\n",
       "                 Summary                                               Text  \n",
       "0  Good Quality Dog Food  I have bought several of the Vitality canned d...  \n",
       "1      Not as Advertised  Product arrived labeled as Jumbo Salted Peanut...  \n",
       "2  \"Delight\" says it all  This is a confection that has been around a fe...  \n",
       "3         Cough Medicine  If you are looking for the secret ingredient i...  \n",
       "4            Great taffy  Great taffy at a great price.  There was a wid...  "
      ]
     },
     "execution_count": 3,
     "metadata": {},
     "output_type": "execute_result"
    }
   ],
   "source": [
    "# Preview the dataframe\n",
    "df = pd.read_csv(\"Reviews.csv\")\n",
    "df.head()"
   ]
  },
  {
   "cell_type": "code",
   "execution_count": 4,
   "metadata": {},
   "outputs": [
    {
     "data": {
      "image/png": "[encoded data removed]",
      "text/plain": [
       "<Figure size 720x504 with 1 Axes>"
      ]
     },
     "metadata": {
      "needs_background": "light"
     },
     "output_type": "display_data"
    }
   ],
   "source": [
    "# Plot a review score\n",
    "plt.figure(figsize =(10,7))\n",
    "plt.title(\"Review Score\")\n",
    "ax = sns.countplot(data = df, x='Score')\n",
    "for i in ax.containers:\n",
    "    ax.bar_label(i,)"
   ]
  },
  {
   "cell_type": "markdown",
   "metadata": {},
   "source": [
    "    -> High number of 5 star reviews"
   ]
  },
  {
   "cell_type": "code",
   "execution_count": 5,
   "metadata": {},
   "outputs": [
    {
     "data": {
      "text/plain": [
       "(568454, 10)"
      ]
     },
     "execution_count": 5,
     "metadata": {},
     "output_type": "execute_result"
    }
   ],
   "source": [
    "# Get the number of rows and columns\n",
    "df.shape"
   ]
  },
  {
   "cell_type": "markdown",
   "metadata": {},
   "source": [
    "Because the majority of 5 star reviews are positive and 1 star is negative, in order to give the model high accuracy, I take a random sample of the reviews by selecting 1500 reviews with 1 star, 500-500-500 reviews with 2, 3, 4 star and 1500 reviews with 5 star"
   ]
  },
  {
   "cell_type": "code",
   "execution_count": 6,
   "metadata": {},
   "outputs": [],
   "source": [
    "# Get sample\n",
    "Score1_1500 = df[df['Score']==1.0].sample(n=1500)\n",
    "Score2_500 = df[df['Score']==2.0].sample(n=500)\n",
    "Score3_500 = df[df['Score']==3.0].sample(n=500)\n",
    "Score4_500 = df[df['Score']==4.0].sample(n=500)\n",
    "Score5_1500 = df[df['Score']==5.0].sample(n=1500)"
   ]
  },
  {
   "cell_type": "code",
   "execution_count": 7,
   "metadata": {},
   "outputs": [
    {
     "name": "stdout",
     "output_type": "stream",
     "text": [
      "<class 'pandas.core.frame.DataFrame'>\n",
      "Int64Index: 4500 entries, 324447 to 8039\n",
      "Data columns (total 10 columns):\n",
      " #   Column                  Non-Null Count  Dtype \n",
      "---  ------                  --------------  ----- \n",
      " 0   Id                      4500 non-null   int64 \n",
      " 1   ProductId               4500 non-null   object\n",
      " 2   UserId                  4500 non-null   object\n",
      " 3   ProfileName             4500 non-null   object\n",
      " 4   HelpfulnessNumerator    4500 non-null   int64 \n",
      " 5   HelpfulnessDenominator  4500 non-null   int64 \n",
      " 6   Score                   4500 non-null   int64 \n",
      " 7   Time                    4500 non-null   int64 \n",
      " 8   Summary                 4500 non-null   object\n",
      " 9   Text                    4500 non-null   object\n",
      "dtypes: int64(5), object(5)\n",
      "memory usage: 386.7+ KB\n"
     ]
    }
   ],
   "source": [
    "# Combine patterns\n",
    "undersampled_df = pd.concat([Score1_1500, Score2_500, Score3_500, Score4_500, Score5_1500], axis=0)\n",
    "undersampled_df.info()"
   ]
  },
  {
   "cell_type": "code",
   "execution_count": 78,
   "metadata": {},
   "outputs": [
    {
     "data": {
      "text/html": [
       "<div>\n",
       "<style scoped>\n",
       "    .dataframe tbody tr th:only-of-type {\n",
       "        vertical-align: middle;\n",
       "    }\n",
       "\n",
       "    .dataframe tbody tr th {\n",
       "        vertical-align: top;\n",
       "    }\n",
       "\n",
       "    .dataframe thead th {\n",
       "        text-align: right;\n",
       "    }\n",
       "</style>\n",
       "<table border=\"1\" class=\"dataframe\">\n",
       "  <thead>\n",
       "    <tr style=\"text-align: right;\">\n",
       "      <th></th>\n",
       "      <th>Id</th>\n",
       "      <th>ProductId</th>\n",
       "      <th>UserId</th>\n",
       "      <th>ProfileName</th>\n",
       "      <th>HelpfulnessNumerator</th>\n",
       "      <th>HelpfulnessDenominator</th>\n",
       "      <th>Score</th>\n",
       "      <th>Time</th>\n",
       "      <th>Summary</th>\n",
       "      <th>Text</th>\n",
       "    </tr>\n",
       "  </thead>\n",
       "  <tbody>\n",
       "    <tr>\n",
       "      <th>324447</th>\n",
       "      <td>324448</td>\n",
       "      <td>B00164YEJ2</td>\n",
       "      <td>A3DH3HKQEN4FCV</td>\n",
       "      <td>Liadan Giolla Brede</td>\n",
       "      <td>3</td>\n",
       "      <td>3</td>\n",
       "      <td>1</td>\n",
       "      <td>1330819200</td>\n",
       "      <td>Dead Flowers</td>\n",
       "      <td>My brother uses Pro Flowers repeatedly for bir...</td>\n",
       "    </tr>\n",
       "    <tr>\n",
       "      <th>365599</th>\n",
       "      <td>365600</td>\n",
       "      <td>B000ZE83FA</td>\n",
       "      <td>A3JNE30L9G7VA1</td>\n",
       "      <td>BenBTizMe</td>\n",
       "      <td>0</td>\n",
       "      <td>0</td>\n",
       "      <td>1</td>\n",
       "      <td>1325462400</td>\n",
       "      <td>Strong Yes, Tasty No</td>\n",
       "      <td>Maybe I got a bad batch but it had a strange a...</td>\n",
       "    </tr>\n",
       "    <tr>\n",
       "      <th>215299</th>\n",
       "      <td>215300</td>\n",
       "      <td>B005NDX6NW</td>\n",
       "      <td>A2FTNDUC5U80QR</td>\n",
       "      <td>Slegs</td>\n",
       "      <td>2</td>\n",
       "      <td>4</td>\n",
       "      <td>1</td>\n",
       "      <td>1323388800</td>\n",
       "      <td>Swiss Gift Set</td>\n",
       "      <td>I ordered this item as a Christmas gift but wa...</td>\n",
       "    </tr>\n",
       "    <tr>\n",
       "      <th>216597</th>\n",
       "      <td>216598</td>\n",
       "      <td>B002UPZ2QU</td>\n",
       "      <td>A3OIL6VWQ9EG6K</td>\n",
       "      <td>Whomp-Whomp</td>\n",
       "      <td>10</td>\n",
       "      <td>18</td>\n",
       "      <td>1</td>\n",
       "      <td>1308614400</td>\n",
       "      <td>Major False Advertizing Here</td>\n",
       "      <td>this is so unbelievably horrible!&lt;br /&gt;&lt;br /&gt;w...</td>\n",
       "    </tr>\n",
       "    <tr>\n",
       "      <th>137721</th>\n",
       "      <td>137722</td>\n",
       "      <td>B000CQE3HS</td>\n",
       "      <td>A1Y9QL1OH22LT</td>\n",
       "      <td>Frank Todarello Jr.</td>\n",
       "      <td>2</td>\n",
       "      <td>38</td>\n",
       "      <td>1</td>\n",
       "      <td>1168300800</td>\n",
       "      <td>Never received</td>\n",
       "      <td>I never received this item because you never g...</td>\n",
       "    </tr>\n",
       "  </tbody>\n",
       "</table>\n",
       "</div>"
      ],
      "text/plain": [
       "            Id   ProductId          UserId          ProfileName  \\\n",
       "324447  324448  B00164YEJ2  A3DH3HKQEN4FCV  Liadan Giolla Brede   \n",
       "365599  365600  B000ZE83FA  A3JNE30L9G7VA1            BenBTizMe   \n",
       "215299  215300  B005NDX6NW  A2FTNDUC5U80QR                Slegs   \n",
       "216597  216598  B002UPZ2QU  A3OIL6VWQ9EG6K          Whomp-Whomp   \n",
       "137721  137722  B000CQE3HS   A1Y9QL1OH22LT  Frank Todarello Jr.   \n",
       "\n",
       "        HelpfulnessNumerator  HelpfulnessDenominator  Score        Time  \\\n",
       "324447                     3                       3      1  1330819200   \n",
       "365599                     0                       0      1  1325462400   \n",
       "215299                     2                       4      1  1323388800   \n",
       "216597                    10                      18      1  1308614400   \n",
       "137721                     2                      38      1  1168300800   \n",
       "\n",
       "                             Summary  \\\n",
       "324447                  Dead Flowers   \n",
       "365599          Strong Yes, Tasty No   \n",
       "215299                Swiss Gift Set   \n",
       "216597  Major False Advertizing Here   \n",
       "137721                Never received   \n",
       "\n",
       "                                                     Text  \n",
       "324447  My brother uses Pro Flowers repeatedly for bir...  \n",
       "365599  Maybe I got a bad batch but it had a strange a...  \n",
       "215299  I ordered this item as a Christmas gift but wa...  \n",
       "216597  this is so unbelievably horrible!<br /><br />w...  \n",
       "137721  I never received this item because you never g...  "
      ]
     },
     "execution_count": 78,
     "metadata": {},
     "output_type": "execute_result"
    }
   ],
   "source": [
    "# Preview the dataframe\n",
    "undersampled_df.head()"
   ]
  },
  {
   "cell_type": "markdown",
   "metadata": {},
   "source": [
    "### VADER"
   ]
  },
  {
   "cell_type": "markdown",
   "metadata": {},
   "source": [
    "The VADER method will score each word in the sentence and then normalized to be between -1 (most extreme negative) and +1 (most extreme positive). This is the most useful method with short and clear sentences.\n",
    "- Positive sentiment: Compound >= 0.05\n",
    "- Neutral sentiment: Compound > -0.05 and Compound < 0.05\n",
    "- Negative sentiment: Compound <= -0.05"
   ]
  },
  {
   "cell_type": "code",
   "execution_count": 24,
   "metadata": {},
   "outputs": [],
   "source": [
    "from nltk.sentiment import SentimentIntensityAnalyzer\n",
    "from tqdm.notebook import tqdm"
   ]
  },
  {
   "cell_type": "code",
   "execution_count": 25,
   "metadata": {},
   "outputs": [
    {
     "name": "stdout",
     "output_type": "stream",
     "text": [
      "Example 1:\n",
      "I ordered this item as a Christmas gift but was disappointed when I received it. It is a sample set of everything which is little. I do not recommend unless thai is what you are looking for. I will not be ordering food sets online again.\n"
     ]
    },
    {
     "data": {
      "text/plain": [
       "{'neg': 0.141, 'neu': 0.816, 'pos': 0.043, 'compound': -0.6672}"
      ]
     },
     "execution_count": 25,
     "metadata": {},
     "output_type": "execute_result"
    }
   ],
   "source": [
    "# Score 1 example sentence\n",
    "sia = SentimentIntensityAnalyzer()\n",
    "example = df['Text'][215299]\n",
    "print(\"Example 1:\")\n",
    "print(example)\n",
    "sia.polarity_scores(example)"
   ]
  },
  {
   "cell_type": "markdown",
   "metadata": {},
   "source": [
    "With a sentence have lots of negative words like \"disappointed\", \"unless\" \"do not recommend\". VADER correctly scoring this as a negative comment. "
   ]
  },
  {
   "cell_type": "code",
   "execution_count": 83,
   "metadata": {},
   "outputs": [
    {
     "name": "stdout",
     "output_type": "stream",
     "text": [
      "Example 2:\n",
      "Maybe I got a bad batch but it had a strange almost fishy undertone taste to it. Granted I didn't notice that the sell by date was 15 days from today so maybe it was past it's prime even with 2 weeks left to go.  Bottom line - I only drink strong, bold types of coffee and this would qualify but there was an undertone of something off about it.  I wouldn't buy it again.  The coffee maker was new and had been run through two cycles before being used AND my daughter's Vanilla flavored was spot on so it wasn't the coffee maker.\n"
     ]
    },
    {
     "data": {
      "text/plain": [
       "{'neg': 0.042, 'neu': 0.86, 'pos': 0.098, 'compound': 0.7845}"
      ]
     },
     "execution_count": 83,
     "metadata": {},
     "output_type": "execute_result"
    }
   ],
   "source": [
    "# Score 1 more example sentence\n",
    "example = df['Text'][365599]\n",
    "print(\"Example 2:\")\n",
    "print(example)\n",
    "sia.polarity_scores(example)"
   ]
  },
  {
   "cell_type": "markdown",
   "metadata": {},
   "source": [
    "In this example, VADER scored wrong. Because this is a long sentence and there are no obvious negative words. With 1 review meaning bad customer experience, this method scored incorrectly"
   ]
  },
  {
   "cell_type": "code",
   "execution_count": 37,
   "metadata": {},
   "outputs": [
    {
     "data": {
      "application/vnd.jupyter.widget-view+json": {
       "model_id": "b7c5599cf1a94c139239d1008cc5428d",
       "version_major": 2,
       "version_minor": 0
      },
      "text/plain": [
       "  0%|          | 0/4500 [00:00<?, ?it/s]"
      ]
     },
     "metadata": {},
     "output_type": "display_data"
    }
   ],
   "source": [
    "# Score all sentence\n",
    "result = {}\n",
    "for i, row in tqdm(undersampled_df.iterrows(), total=len(undersampled_df)):\n",
    "    text = row['Text']\n",
    "    myid = row['Id']\n",
    "    result[myid] = sia.polarity_scores(text)"
   ]
  },
  {
   "cell_type": "code",
   "execution_count": 42,
   "metadata": {},
   "outputs": [
    {
     "data": {
      "text/html": [
       "<div>\n",
       "<style scoped>\n",
       "    .dataframe tbody tr th:only-of-type {\n",
       "        vertical-align: middle;\n",
       "    }\n",
       "\n",
       "    .dataframe tbody tr th {\n",
       "        vertical-align: top;\n",
       "    }\n",
       "\n",
       "    .dataframe thead th {\n",
       "        text-align: right;\n",
       "    }\n",
       "</style>\n",
       "<table border=\"1\" class=\"dataframe\">\n",
       "  <thead>\n",
       "    <tr style=\"text-align: right;\">\n",
       "      <th></th>\n",
       "      <th>neg</th>\n",
       "      <th>neu</th>\n",
       "      <th>pos</th>\n",
       "      <th>compound</th>\n",
       "    </tr>\n",
       "  </thead>\n",
       "  <tbody>\n",
       "    <tr>\n",
       "      <th>324448</th>\n",
       "      <td>0.128</td>\n",
       "      <td>0.825</td>\n",
       "      <td>0.047</td>\n",
       "      <td>-0.5499</td>\n",
       "    </tr>\n",
       "    <tr>\n",
       "      <th>365600</th>\n",
       "      <td>0.042</td>\n",
       "      <td>0.860</td>\n",
       "      <td>0.098</td>\n",
       "      <td>0.7845</td>\n",
       "    </tr>\n",
       "    <tr>\n",
       "      <th>215300</th>\n",
       "      <td>0.141</td>\n",
       "      <td>0.816</td>\n",
       "      <td>0.043</td>\n",
       "      <td>-0.6672</td>\n",
       "    </tr>\n",
       "    <tr>\n",
       "      <th>216598</th>\n",
       "      <td>0.052</td>\n",
       "      <td>0.829</td>\n",
       "      <td>0.120</td>\n",
       "      <td>0.9633</td>\n",
       "    </tr>\n",
       "    <tr>\n",
       "      <th>137722</th>\n",
       "      <td>0.000</td>\n",
       "      <td>1.000</td>\n",
       "      <td>0.000</td>\n",
       "      <td>0.0000</td>\n",
       "    </tr>\n",
       "  </tbody>\n",
       "</table>\n",
       "</div>"
      ],
      "text/plain": [
       "          neg    neu    pos  compound\n",
       "324448  0.128  0.825  0.047   -0.5499\n",
       "365600  0.042  0.860  0.098    0.7845\n",
       "215300  0.141  0.816  0.043   -0.6672\n",
       "216598  0.052  0.829  0.120    0.9633\n",
       "137722  0.000  1.000  0.000    0.0000"
      ]
     },
     "execution_count": 42,
     "metadata": {},
     "output_type": "execute_result"
    }
   ],
   "source": [
    "vaders = pd.DataFrame(res).T\n",
    "vaders.head()"
   ]
  },
  {
   "cell_type": "code",
   "execution_count": 43,
   "metadata": {},
   "outputs": [
    {
     "data": {
      "text/html": [
       "<div>\n",
       "<style scoped>\n",
       "    .dataframe tbody tr th:only-of-type {\n",
       "        vertical-align: middle;\n",
       "    }\n",
       "\n",
       "    .dataframe tbody tr th {\n",
       "        vertical-align: top;\n",
       "    }\n",
       "\n",
       "    .dataframe thead th {\n",
       "        text-align: right;\n",
       "    }\n",
       "</style>\n",
       "<table border=\"1\" class=\"dataframe\">\n",
       "  <thead>\n",
       "    <tr style=\"text-align: right;\">\n",
       "      <th></th>\n",
       "      <th>Id</th>\n",
       "      <th>neg</th>\n",
       "      <th>neu</th>\n",
       "      <th>pos</th>\n",
       "      <th>compound</th>\n",
       "      <th>ProductId</th>\n",
       "      <th>UserId</th>\n",
       "      <th>ProfileName</th>\n",
       "      <th>HelpfulnessNumerator</th>\n",
       "      <th>HelpfulnessDenominator</th>\n",
       "      <th>Score</th>\n",
       "      <th>Time</th>\n",
       "      <th>Summary</th>\n",
       "      <th>Text</th>\n",
       "    </tr>\n",
       "  </thead>\n",
       "  <tbody>\n",
       "    <tr>\n",
       "      <th>0</th>\n",
       "      <td>324448</td>\n",
       "      <td>0.128</td>\n",
       "      <td>0.825</td>\n",
       "      <td>0.047</td>\n",
       "      <td>-0.5499</td>\n",
       "      <td>B00164YEJ2</td>\n",
       "      <td>A3DH3HKQEN4FCV</td>\n",
       "      <td>Liadan Giolla Brede</td>\n",
       "      <td>3</td>\n",
       "      <td>3</td>\n",
       "      <td>1</td>\n",
       "      <td>1330819200</td>\n",
       "      <td>Dead Flowers</td>\n",
       "      <td>My brother uses Pro Flowers repeatedly for bir...</td>\n",
       "    </tr>\n",
       "    <tr>\n",
       "      <th>1</th>\n",
       "      <td>365600</td>\n",
       "      <td>0.042</td>\n",
       "      <td>0.860</td>\n",
       "      <td>0.098</td>\n",
       "      <td>0.7845</td>\n",
       "      <td>B000ZE83FA</td>\n",
       "      <td>A3JNE30L9G7VA1</td>\n",
       "      <td>BenBTizMe</td>\n",
       "      <td>0</td>\n",
       "      <td>0</td>\n",
       "      <td>1</td>\n",
       "      <td>1325462400</td>\n",
       "      <td>Strong Yes, Tasty No</td>\n",
       "      <td>Maybe I got a bad batch but it had a strange a...</td>\n",
       "    </tr>\n",
       "    <tr>\n",
       "      <th>2</th>\n",
       "      <td>215300</td>\n",
       "      <td>0.141</td>\n",
       "      <td>0.816</td>\n",
       "      <td>0.043</td>\n",
       "      <td>-0.6672</td>\n",
       "      <td>B005NDX6NW</td>\n",
       "      <td>A2FTNDUC5U80QR</td>\n",
       "      <td>Slegs</td>\n",
       "      <td>2</td>\n",
       "      <td>4</td>\n",
       "      <td>1</td>\n",
       "      <td>1323388800</td>\n",
       "      <td>Swiss Gift Set</td>\n",
       "      <td>I ordered this item as a Christmas gift but wa...</td>\n",
       "    </tr>\n",
       "    <tr>\n",
       "      <th>3</th>\n",
       "      <td>216598</td>\n",
       "      <td>0.052</td>\n",
       "      <td>0.829</td>\n",
       "      <td>0.120</td>\n",
       "      <td>0.9633</td>\n",
       "      <td>B002UPZ2QU</td>\n",
       "      <td>A3OIL6VWQ9EG6K</td>\n",
       "      <td>Whomp-Whomp</td>\n",
       "      <td>10</td>\n",
       "      <td>18</td>\n",
       "      <td>1</td>\n",
       "      <td>1308614400</td>\n",
       "      <td>Major False Advertizing Here</td>\n",
       "      <td>this is so unbelievably horrible!&lt;br /&gt;&lt;br /&gt;w...</td>\n",
       "    </tr>\n",
       "    <tr>\n",
       "      <th>4</th>\n",
       "      <td>137722</td>\n",
       "      <td>0.000</td>\n",
       "      <td>1.000</td>\n",
       "      <td>0.000</td>\n",
       "      <td>0.0000</td>\n",
       "      <td>B000CQE3HS</td>\n",
       "      <td>A1Y9QL1OH22LT</td>\n",
       "      <td>Frank Todarello Jr.</td>\n",
       "      <td>2</td>\n",
       "      <td>38</td>\n",
       "      <td>1</td>\n",
       "      <td>1168300800</td>\n",
       "      <td>Never received</td>\n",
       "      <td>I never received this item because you never g...</td>\n",
       "    </tr>\n",
       "  </tbody>\n",
       "</table>\n",
       "</div>"
      ],
      "text/plain": [
       "       Id    neg    neu    pos  compound   ProductId          UserId  \\\n",
       "0  324448  0.128  0.825  0.047   -0.5499  B00164YEJ2  A3DH3HKQEN4FCV   \n",
       "1  365600  0.042  0.860  0.098    0.7845  B000ZE83FA  A3JNE30L9G7VA1   \n",
       "2  215300  0.141  0.816  0.043   -0.6672  B005NDX6NW  A2FTNDUC5U80QR   \n",
       "3  216598  0.052  0.829  0.120    0.9633  B002UPZ2QU  A3OIL6VWQ9EG6K   \n",
       "4  137722  0.000  1.000  0.000    0.0000  B000CQE3HS   A1Y9QL1OH22LT   \n",
       "\n",
       "           ProfileName  HelpfulnessNumerator  HelpfulnessDenominator  Score  \\\n",
       "0  Liadan Giolla Brede                     3                       3      1   \n",
       "1            BenBTizMe                     0                       0      1   \n",
       "2                Slegs                     2                       4      1   \n",
       "3          Whomp-Whomp                    10                      18      1   \n",
       "4  Frank Todarello Jr.                     2                      38      1   \n",
       "\n",
       "         Time                       Summary  \\\n",
       "0  1330819200                  Dead Flowers   \n",
       "1  1325462400          Strong Yes, Tasty No   \n",
       "2  1323388800                Swiss Gift Set   \n",
       "3  1308614400  Major False Advertizing Here   \n",
       "4  1168300800                Never received   \n",
       "\n",
       "                                                Text  \n",
       "0  My brother uses Pro Flowers repeatedly for bir...  \n",
       "1  Maybe I got a bad batch but it had a strange a...  \n",
       "2  I ordered this item as a Christmas gift but wa...  \n",
       "3  this is so unbelievably horrible!<br /><br />w...  \n",
       "4  I never received this item because you never g...  "
      ]
     },
     "execution_count": 43,
     "metadata": {},
     "output_type": "execute_result"
    }
   ],
   "source": [
    "vaders = vaders.reset_index().rename(columns={'index': 'Id'})\n",
    "vaders = vaders.merge(df, how='left')\n",
    "vaders.head()"
   ]
  },
  {
   "cell_type": "code",
   "execution_count": 79,
   "metadata": {},
   "outputs": [
    {
     "data": {
      "text/plain": [
       "positive    3311\n",
       "negative    1019\n",
       "neutral      170\n",
       "Name: vader_sentiment, dtype: int64"
      ]
     },
     "execution_count": 79,
     "metadata": {},
     "output_type": "execute_result"
    }
   ],
   "source": [
    "# Count sentiment\n",
    "vaders['vader_sentiment'] = vaders['compound'].apply(lambda x: \"positive\" if x>0.05 else (\"negative\" if x<-0.05 else \"neutral\"))\n",
    "vaders['vader_sentiment'].value_counts(dropna=False)"
   ]
  },
  {
   "cell_type": "code",
   "execution_count": 100,
   "metadata": {},
   "outputs": [
    {
     "data": {
      "image/png": "[encoded data removed]",
      "text/plain": [
       "<Figure size 720x504 with 1 Axes>"
      ]
     },
     "metadata": {
      "needs_background": "light"
     },
     "output_type": "display_data"
    }
   ],
   "source": [
    "# Plot Vader sentiment\n",
    "plt.figure(figsize =(10,7))\n",
    "plt.title(\"Vader review Score\")\n",
    "ax = sns.countplot(x='Score', hue='vader_sentiment' ,data = vaders)\n",
    "for i in ax.containers:\n",
    "    ax.bar_label(i,)"
   ]
  },
  {
   "cell_type": "markdown",
   "metadata": {},
   "source": [
    "    -> 5-star reviews are usually positive, which VADER has scored quite accurately. But the 1 star reviews are quite positive. This makes me suspicious of the negative reviews. Maybe negative reviews are often long and complex, which affects the way VADER scores each word in a sentence. The assessment of language also depends on the context, not just the meaning of each sentence"
   ]
  },
  {
   "cell_type": "markdown",
   "metadata": {},
   "source": [
    "### Roberta"
   ]
  },
  {
   "cell_type": "markdown",
   "metadata": {},
   "source": [
    "Roberta is a scoring model based on the context of a sentence. So I hope this model will bring more accuracy"
   ]
  },
  {
   "cell_type": "code",
   "execution_count": 20,
   "metadata": {},
   "outputs": [],
   "source": [
    "from transformers import AutoTokenizer\n",
    "from transformers import AutoModelForSequenceClassification\n",
    "from scipy.special import softmax"
   ]
  },
  {
   "cell_type": "code",
   "execution_count": 21,
   "metadata": {},
   "outputs": [],
   "source": [
    "MODEL = f\"cardiffnlp/twitter-roberta-base-sentiment\"\n",
    "tokenizer = AutoTokenizer.from_pretrained(MODEL)\n",
    "model = AutoModelForSequenceClassification.from_pretrained(MODEL)"
   ]
  },
  {
   "cell_type": "code",
   "execution_count": 87,
   "metadata": {},
   "outputs": [
    {
     "name": "stdout",
     "output_type": "stream",
     "text": [
      "Maybe I got a bad batch but it had a strange almost fishy undertone taste to it. Granted I didn't notice that the sell by date was 15 days from today so maybe it was past it's prime even with 2 weeks left to go.  Bottom line - I only drink strong, bold types of coffee and this would qualify but there was an undertone of something off about it.  I wouldn't buy it again.  The coffee maker was new and had been run through two cycles before being used AND my daughter's Vanilla flavored was spot on so it wasn't the coffee maker.\n"
     ]
    },
    {
     "data": {
      "text/plain": [
       "{'roberta_neg': 0.71007645,\n",
       " 'roberta_neu': 0.25374812,\n",
       " 'roberta_pos': 0.036175426}"
      ]
     },
     "execution_count": 87,
     "metadata": {},
     "output_type": "execute_result"
    }
   ],
   "source": [
    "encoded_text = tokenizer(example, return_tensors='pt')\n",
    "output = model(**encoded_text)\n",
    "scores = output[0][0].detach().numpy()\n",
    "scores = softmax(scores)\n",
    "scores_dict = {\n",
    "    'roberta_neg' : scores[0],\n",
    "    'roberta_neu' : scores[1],\n",
    "    'roberta_pos' : scores[2]\n",
    "}\n",
    "print(example)\n",
    "scores_dict"
   ]
  },
  {
   "cell_type": "code",
   "execution_count": 88,
   "metadata": {},
   "outputs": [
    {
     "data": {
      "text/plain": [
       "{'neg': 0.042, 'neu': 0.86, 'pos': 0.098, 'compound': 0.7845}"
      ]
     },
     "execution_count": 88,
     "metadata": {},
     "output_type": "execute_result"
    }
   ],
   "source": [
    "# VADER results on example\n",
    "sia.polarity_scores(example)"
   ]
  },
  {
   "cell_type": "markdown",
   "metadata": {},
   "source": [
    "By context scoring roberta correctly scored a long negative reivew sentence that VADER scored incorrectly"
   ]
  },
  {
   "cell_type": "code",
   "execution_count": 49,
   "metadata": {},
   "outputs": [],
   "source": [
    "def polarity_scores_roberta(example):\n",
    "    encoded_text = tokenizer(example, return_tensors='pt')\n",
    "    output = model(**encoded_text)\n",
    "    scores = output[0][0].detach().numpy()\n",
    "    scores = softmax(scores)\n",
    "    scores_dict = {\n",
    "        'roberta_neg' : scores[0],\n",
    "        'roberta_neu' : scores[1],\n",
    "        'roberta_pos' : scores[2]\n",
    "    }\n",
    "    return scores_dict"
   ]
  },
  {
   "cell_type": "code",
   "execution_count": 51,
   "metadata": {},
   "outputs": [
    {
     "data": {
      "application/vnd.jupyter.widget-view+json": {
       "model_id": "cfe45bdc1aa54b50be7cd312710e1f99",
       "version_major": 2,
       "version_minor": 0
      },
      "text/plain": [
       "  0%|          | 0/4500 [00:00<?, ?it/s]"
      ]
     },
     "metadata": {},
     "output_type": "display_data"
    },
    {
     "name": "stdout",
     "output_type": "stream",
     "text": [
      "Broke for id 228741\n",
      "Broke for id 207026\n",
      "Broke for id 312559\n",
      "Broke for id 430618\n",
      "Broke for id 2948\n",
      "Broke for id 552317\n",
      "Broke for id 125524\n",
      "Broke for id 318089\n",
      "Broke for id 494395\n",
      "Broke for id 344083\n",
      "Broke for id 116936\n",
      "Broke for id 318797\n",
      "Broke for id 543593\n",
      "Broke for id 494351\n",
      "Broke for id 100789\n",
      "Broke for id 548062\n",
      "Broke for id 216076\n",
      "Broke for id 74766\n",
      "Broke for id 119149\n",
      "Broke for id 89728\n",
      "Broke for id 424937\n",
      "Broke for id 58085\n",
      "Broke for id 63612\n",
      "Broke for id 77704\n",
      "Broke for id 271882\n",
      "Broke for id 506542\n",
      "Broke for id 114833\n",
      "Broke for id 314157\n",
      "Broke for id 367743\n",
      "Broke for id 472632\n",
      "Broke for id 208414\n",
      "Broke for id 159801\n",
      "Broke for id 219919\n",
      "Broke for id 494656\n",
      "Broke for id 11876\n",
      "Broke for id 265358\n",
      "Broke for id 295323\n",
      "Broke for id 221954\n",
      "Broke for id 175193\n",
      "Broke for id 158067\n",
      "Broke for id 133108\n",
      "Broke for id 502903\n",
      "Broke for id 407456\n",
      "Broke for id 554762\n",
      "Broke for id 126825\n",
      "Broke for id 459630\n",
      "Broke for id 314718\n",
      "Broke for id 36358\n",
      "Broke for id 199009\n",
      "Broke for id 304463\n",
      "Broke for id 394045\n"
     ]
    }
   ],
   "source": [
    "res = {}\n",
    "for i, row in tqdm(undersampled_df.iterrows(), total=len(undersampled_df)):\n",
    "    try:\n",
    "        text = row['Text']\n",
    "        myid = row['Id']\n",
    "        vader_result = sia.polarity_scores(text)\n",
    "        vader_result_rename = {}\n",
    "        for key, value in vader_result.items():\n",
    "            vader_result_rename[f\"vader_{key}\"] = value\n",
    "        roberta_result = polarity_scores_roberta(text)\n",
    "        both = {**vader_result_rename, **roberta_result}\n",
    "        res[myid] = both\n",
    "    except RuntimeError:\n",
    "        print(f'Broke for id {myid}')"
   ]
  },
  {
   "cell_type": "markdown",
   "metadata": {},
   "source": [
    "There are a few reviews that this method cannot score, let's see"
   ]
  },
  {
   "cell_type": "code",
   "execution_count": 91,
   "metadata": {},
   "outputs": [
    {
     "data": {
      "text/plain": [
       "\"Someone brought these to a party we had last month and I didn't put them out because the buffet was full and didn't think anyone would like saltless potato chips.  Last week we had some friends over and these were all I had in the pantry so I put them out.  OH MY GOSH THEY ARE SO GOOD!  I was so wrong to think they would be bland; they are full of real potato flavor, wonderfully crisp and very fresh tasting.  I am here on amazon to buy a case, I only want to have these with dips.  Truly delicious!\""
      ]
     },
     "execution_count": 91,
     "metadata": {},
     "output_type": "execute_result"
    }
   ],
   "source": [
    "df['Text'][228741] \n"
   ]
  },
  {
   "cell_type": "code",
   "execution_count": 95,
   "metadata": {},
   "outputs": [
    {
     "data": {
      "text/plain": [
       "\"It's really gravy! not gloopy goo that tastes awful! Like so many of us I had just about resigned myself to the idea of never having gravy again -  how wonderful to be wrong!  It's really, truly, good- try it, you won't be sorry!\""
      ]
     },
     "execution_count": 95,
     "metadata": {},
     "output_type": "execute_result"
    }
   ],
   "source": [
    "df['Text'][430618] \n"
   ]
  },
  {
   "cell_type": "markdown",
   "metadata": {},
   "source": [
    "-> Some sentences with complex and multiple contexts, roberta cannot score. However, I think VADER will accurately grade these sentences by scoring each word"
   ]
  },
  {
   "cell_type": "code",
   "execution_count": 96,
   "metadata": {},
   "outputs": [
    {
     "data": {
      "text/plain": [
       "{'neg': 0.03, 'neu': 0.71, 'pos': 0.26, 'compound': 0.9757}"
      ]
     },
     "execution_count": 96,
     "metadata": {},
     "output_type": "execute_result"
    }
   ],
   "source": [
    "sia.polarity_scores(df['Text'][228741])"
   ]
  },
  {
   "cell_type": "code",
   "execution_count": 98,
   "metadata": {},
   "outputs": [
    {
     "data": {
      "text/plain": [
       "{'neg': 0.142, 'neu': 0.596, 'pos': 0.262, 'compound': 0.7821}"
      ]
     },
     "execution_count": 98,
     "metadata": {},
     "output_type": "execute_result"
    }
   ],
   "source": [
    "sia.polarity_scores(df['Text'][430618])"
   ]
  },
  {
   "cell_type": "markdown",
   "metadata": {},
   "source": [
    "The sentences that Roberta can't score, VADER can score easily"
   ]
  },
  {
   "cell_type": "code",
   "execution_count": 53,
   "metadata": {},
   "outputs": [],
   "source": [
    "results_df = pd.DataFrame(res).T\n",
    "results_df = results_df.reset_index().rename(columns={'index': 'Id'})\n",
    "results_df = results_df.merge(df, how='left')"
   ]
  },
  {
   "cell_type": "code",
   "execution_count": 59,
   "metadata": {},
   "outputs": [
    {
     "data": {
      "text/html": [
       "<div>\n",
       "<style scoped>\n",
       "    .dataframe tbody tr th:only-of-type {\n",
       "        vertical-align: middle;\n",
       "    }\n",
       "\n",
       "    .dataframe tbody tr th {\n",
       "        vertical-align: top;\n",
       "    }\n",
       "\n",
       "    .dataframe thead th {\n",
       "        text-align: right;\n",
       "    }\n",
       "</style>\n",
       "<table border=\"1\" class=\"dataframe\">\n",
       "  <thead>\n",
       "    <tr style=\"text-align: right;\">\n",
       "      <th></th>\n",
       "      <th>roberta_neg</th>\n",
       "      <th>roberta_neu</th>\n",
       "      <th>roberta_pos</th>\n",
       "    </tr>\n",
       "  </thead>\n",
       "  <tbody>\n",
       "    <tr>\n",
       "      <th>0</th>\n",
       "      <td>0.811436</td>\n",
       "      <td>0.149635</td>\n",
       "      <td>0.038929</td>\n",
       "    </tr>\n",
       "    <tr>\n",
       "      <th>1</th>\n",
       "      <td>0.710076</td>\n",
       "      <td>0.253748</td>\n",
       "      <td>0.036175</td>\n",
       "    </tr>\n",
       "    <tr>\n",
       "      <th>2</th>\n",
       "      <td>0.928133</td>\n",
       "      <td>0.065673</td>\n",
       "      <td>0.006194</td>\n",
       "    </tr>\n",
       "    <tr>\n",
       "      <th>3</th>\n",
       "      <td>0.816618</td>\n",
       "      <td>0.155056</td>\n",
       "      <td>0.028326</td>\n",
       "    </tr>\n",
       "    <tr>\n",
       "      <th>4</th>\n",
       "      <td>0.893895</td>\n",
       "      <td>0.102069</td>\n",
       "      <td>0.004036</td>\n",
       "    </tr>\n",
       "    <tr>\n",
       "      <th>...</th>\n",
       "      <td>...</td>\n",
       "      <td>...</td>\n",
       "      <td>...</td>\n",
       "    </tr>\n",
       "    <tr>\n",
       "      <th>4444</th>\n",
       "      <td>0.007545</td>\n",
       "      <td>0.240135</td>\n",
       "      <td>0.752321</td>\n",
       "    </tr>\n",
       "    <tr>\n",
       "      <th>4445</th>\n",
       "      <td>0.014126</td>\n",
       "      <td>0.063807</td>\n",
       "      <td>0.922067</td>\n",
       "    </tr>\n",
       "    <tr>\n",
       "      <th>4446</th>\n",
       "      <td>0.001383</td>\n",
       "      <td>0.008479</td>\n",
       "      <td>0.990137</td>\n",
       "    </tr>\n",
       "    <tr>\n",
       "      <th>4447</th>\n",
       "      <td>0.001920</td>\n",
       "      <td>0.006928</td>\n",
       "      <td>0.991151</td>\n",
       "    </tr>\n",
       "    <tr>\n",
       "      <th>4448</th>\n",
       "      <td>0.007433</td>\n",
       "      <td>0.096827</td>\n",
       "      <td>0.895741</td>\n",
       "    </tr>\n",
       "  </tbody>\n",
       "</table>\n",
       "<p>4449 rows × 3 columns</p>\n",
       "</div>"
      ],
      "text/plain": [
       "      roberta_neg  roberta_neu  roberta_pos\n",
       "0        0.811436     0.149635     0.038929\n",
       "1        0.710076     0.253748     0.036175\n",
       "2        0.928133     0.065673     0.006194\n",
       "3        0.816618     0.155056     0.028326\n",
       "4        0.893895     0.102069     0.004036\n",
       "...           ...          ...          ...\n",
       "4444     0.007545     0.240135     0.752321\n",
       "4445     0.014126     0.063807     0.922067\n",
       "4446     0.001383     0.008479     0.990137\n",
       "4447     0.001920     0.006928     0.991151\n",
       "4448     0.007433     0.096827     0.895741\n",
       "\n",
       "[4449 rows x 3 columns]"
      ]
     },
     "execution_count": 59,
     "metadata": {},
     "output_type": "execute_result"
    }
   ],
   "source": [
    "results_df[[\"roberta_neg\",\"roberta_neu\",\"roberta_pos\"]]"
   ]
  },
  {
   "cell_type": "code",
   "execution_count": 118,
   "metadata": {},
   "outputs": [
    {
     "data": {
      "text/plain": [
       "roberta_pos    2282\n",
       "roberta_neg    1727\n",
       "roberta_neu     440\n",
       "Name: roberta_sentiment, dtype: int64"
      ]
     },
     "execution_count": 118,
     "metadata": {},
     "output_type": "execute_result"
    }
   ],
   "source": [
    "# Count sentiment\n",
    "results_df[\"roberta_sentiment\"] = results_df[[\"roberta_neg\",\"roberta_pos\",\"roberta_neu\"]].idxmax(axis=1)\n",
    "results_df[\"roberta_sentiment\"].value_counts(dropna=False)"
   ]
  },
  {
   "cell_type": "code",
   "execution_count": 117,
   "metadata": {},
   "outputs": [
    {
     "data": {
      "image/png": "[encoded data removed]",
      "text/plain": [
       "<Figure size 720x504 with 1 Axes>"
      ]
     },
     "metadata": {
      "needs_background": "light"
     },
     "output_type": "display_data"
    }
   ],
   "source": [
    "# Plot Roberta sentiment\n",
    "plt.figure(figsize =(10,7))\n",
    "plt.title(\"Roberta review score\")\n",
    "ax = sns.countplot(x='Score', hue='roberta_sentiment' ,hue_order = ['roberta_neg', 'roberta_pos', 'roberta_neu'],data = results_df)\n",
    "for i in ax.containers:\n",
    "    ax.bar_label(i,)"
   ]
  },
  {
   "cell_type": "code",
   "execution_count": 114,
   "metadata": {},
   "outputs": [
    {
     "data": {
      "image/png": "[encoded data removed]",
      "text/plain": [
       "<Figure size 720x504 with 1 Axes>"
      ]
     },
     "metadata": {
      "needs_background": "light"
     },
     "output_type": "display_data"
    }
   ],
   "source": [
    "# Compare with Vader sentiment\n",
    "plt.figure(figsize =(10,7))\n",
    "plt.title(\"Vader review Score\")\n",
    "ax = sns.countplot(x='Score', hue='vader_sentiment' ,data = vaders)\n",
    "for i in ax.containers:\n",
    "    ax.bar_label(i,)"
   ]
  },
  {
   "cell_type": "markdown",
   "metadata": {},
   "source": [
    "    -> The roberta method is more accurate with 1-star comments"
   ]
  },
  {
   "cell_type": "markdown",
   "metadata": {},
   "source": [
    "## Conclusions"
   ]
  },
  {
   "cell_type": "markdown",
   "metadata": {},
   "source": [
    "This Exploratory Data Analysis has shown advantages and disadvantages of 2 nlp techniques: VADER and Roberta used to analyze sentiment. "
   ]
  }
 ],
 "metadata": {
  "kernelspec": {
   "display_name": "Python 3.9.12 ('base')",
   "language": "python",
   "name": "python3"
  },
  "language_info": {
   "codemirror_mode": {
    "name": "ipython",
    "version": 3
   },
   "file_extension": ".py",
   "mimetype": "text/x-python",
   "name": "python",
   "nbconvert_exporter": "python",
   "pygments_lexer": "ipython3",
   "version": "3.9.12"
  },
  "orig_nbformat": 4,
  "vscode": {
   "interpreter": {
    "hash": "e3a18842cd88223d2eea50a134bb96e0584ccfa9a42436ff53b4efa05bbcefc4"
   }
  }
 },
 "nbformat": 4,
 "nbformat_minor": 2
}
