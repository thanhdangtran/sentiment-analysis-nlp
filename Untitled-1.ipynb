{
 "cells": [
  {
   "cell_type": "markdown",
   "metadata": {},
   "source": [
    "# **Amazon Fine Food Reviews**"
   ]
  },
  {
   "cell_type": "markdown",
   "metadata": {},
   "source": [
    "#"
   ]
  },
  {
   "cell_type": "code",
   "execution_count": null,
   "metadata": {},
   "outputs": [],
   "source": []
  },
  {
   "cell_type": "markdown",
   "metadata": {},
   "source": [
    "## Project Overview"
   ]
  },
  {
   "cell_type": "markdown",
   "metadata": {},
   "source": [
    "This dataset consists of reviews of fine foods from amazon. The data span a period of more than 10 years, including all ~500,000 reviews up to October 2012. Reviews include product and user information, ratings, and a plain text review. It also includes reviews from all other Amazon categories.\n"
   ]
  },
  {
   "cell_type": "markdown",
   "metadata": {},
   "source": [
    "## Data Description"
   ]
  },
  {
   "cell_type": "markdown",
   "metadata": {},
   "source": [
    "This dataset consists of reviews of fine foods from amazon. The data span a period of more than 10 years, including all ~500,000 reviews up to October 2012. Reviews include product and user information, ratings, and a plain text review. It also includes reviews from all other Amazon categories.\n",
    "\n",
    "Data includes:\n",
    "- Reviews from Oct 1999 - Oct 2012\n",
    "- 568,454 reviews\n",
    "- 256,059 users\n",
    "- 74,258 products\n",
    "- 260 users with > 50 reviews\n",
    "\n",
    "Data link: [Kaggle](https://www.kaggle.com/datasets/snap/amazon-fine-food-reviews)"
   ]
  },
  {
   "cell_type": "markdown",
   "metadata": {},
   "source": [
    "## EDA Goals"
   ]
  },
  {
   "cell_type": "markdown",
   "metadata": {},
   "source": [
    "Looking at the attributes above and the data, I formulate the following questions:\n",
    "- Which country is most affected by disasters?\n",
    "- What type of disaster occurs most often?\n",
    "- In VietNam, are the central provinces suffering the most natural disasters? Which province have the most affected?"
   ]
  },
  {
   "cell_type": "markdown",
   "metadata": {},
   "source": [
    "## Exploratory Data Analysis"
   ]
  },
  {
   "cell_type": "code",
   "execution_count": 1,
   "metadata": {},
   "outputs": [],
   "source": [
    "import pandas as pd\n",
    "import numpy as np\n",
    "import seaborn as sns\n",
    "import matplotlib.pyplot as plt"
   ]
  },
  {
   "cell_type": "code",
   "execution_count": 2,
   "metadata": {},
   "outputs": [
    {
     "data": {
      "text/html": [
       "<div>\n",
       "<style scoped>\n",
       "    .dataframe tbody tr th:only-of-type {\n",
       "        vertical-align: middle;\n",
       "    }\n",
       "\n",
       "    .dataframe tbody tr th {\n",
       "        vertical-align: top;\n",
       "    }\n",
       "\n",
       "    .dataframe thead th {\n",
       "        text-align: right;\n",
       "    }\n",
       "</style>\n",
       "<table border=\"1\" class=\"dataframe\">\n",
       "  <thead>\n",
       "    <tr style=\"text-align: right;\">\n",
       "      <th></th>\n",
       "      <th>Id</th>\n",
       "      <th>ProductId</th>\n",
       "      <th>UserId</th>\n",
       "      <th>ProfileName</th>\n",
       "      <th>HelpfulnessNumerator</th>\n",
       "      <th>HelpfulnessDenominator</th>\n",
       "      <th>Score</th>\n",
       "      <th>Time</th>\n",
       "      <th>Summary</th>\n",
       "      <th>Text</th>\n",
       "    </tr>\n",
       "  </thead>\n",
       "  <tbody>\n",
       "    <tr>\n",
       "      <th>0</th>\n",
       "      <td>1</td>\n",
       "      <td>B001E4KFG0</td>\n",
       "      <td>A3SGXH7AUHU8GW</td>\n",
       "      <td>delmartian</td>\n",
       "      <td>1</td>\n",
       "      <td>1</td>\n",
       "      <td>5</td>\n",
       "      <td>1303862400</td>\n",
       "      <td>Good Quality Dog Food</td>\n",
       "      <td>I have bought several of the Vitality canned d...</td>\n",
       "    </tr>\n",
       "    <tr>\n",
       "      <th>1</th>\n",
       "      <td>2</td>\n",
       "      <td>B00813GRG4</td>\n",
       "      <td>A1D87F6ZCVE5NK</td>\n",
       "      <td>dll pa</td>\n",
       "      <td>0</td>\n",
       "      <td>0</td>\n",
       "      <td>1</td>\n",
       "      <td>1346976000</td>\n",
       "      <td>Not as Advertised</td>\n",
       "      <td>Product arrived labeled as Jumbo Salted Peanut...</td>\n",
       "    </tr>\n",
       "    <tr>\n",
       "      <th>2</th>\n",
       "      <td>3</td>\n",
       "      <td>B000LQOCH0</td>\n",
       "      <td>ABXLMWJIXXAIN</td>\n",
       "      <td>Natalia Corres \"Natalia Corres\"</td>\n",
       "      <td>1</td>\n",
       "      <td>1</td>\n",
       "      <td>4</td>\n",
       "      <td>1219017600</td>\n",
       "      <td>\"Delight\" says it all</td>\n",
       "      <td>This is a confection that has been around a fe...</td>\n",
       "    </tr>\n",
       "    <tr>\n",
       "      <th>3</th>\n",
       "      <td>4</td>\n",
       "      <td>B000UA0QIQ</td>\n",
       "      <td>A395BORC6FGVXV</td>\n",
       "      <td>Karl</td>\n",
       "      <td>3</td>\n",
       "      <td>3</td>\n",
       "      <td>2</td>\n",
       "      <td>1307923200</td>\n",
       "      <td>Cough Medicine</td>\n",
       "      <td>If you are looking for the secret ingredient i...</td>\n",
       "    </tr>\n",
       "    <tr>\n",
       "      <th>4</th>\n",
       "      <td>5</td>\n",
       "      <td>B006K2ZZ7K</td>\n",
       "      <td>A1UQRSCLF8GW1T</td>\n",
       "      <td>Michael D. Bigham \"M. Wassir\"</td>\n",
       "      <td>0</td>\n",
       "      <td>0</td>\n",
       "      <td>5</td>\n",
       "      <td>1350777600</td>\n",
       "      <td>Great taffy</td>\n",
       "      <td>Great taffy at a great price.  There was a wid...</td>\n",
       "    </tr>\n",
       "  </tbody>\n",
       "</table>\n",
       "</div>"
      ],
      "text/plain": [
       "   Id   ProductId          UserId                      ProfileName  \\\n",
       "0   1  B001E4KFG0  A3SGXH7AUHU8GW                       delmartian   \n",
       "1   2  B00813GRG4  A1D87F6ZCVE5NK                           dll pa   \n",
       "2   3  B000LQOCH0   ABXLMWJIXXAIN  Natalia Corres \"Natalia Corres\"   \n",
       "3   4  B000UA0QIQ  A395BORC6FGVXV                             Karl   \n",
       "4   5  B006K2ZZ7K  A1UQRSCLF8GW1T    Michael D. Bigham \"M. Wassir\"   \n",
       "\n",
       "   HelpfulnessNumerator  HelpfulnessDenominator  Score        Time  \\\n",
       "0                     1                       1      5  1303862400   \n",
       "1                     0                       0      1  1346976000   \n",
       "2                     1                       1      4  1219017600   \n",
       "3                     3                       3      2  1307923200   \n",
       "4                     0                       0      5  1350777600   \n",
       "\n",
       "                 Summary                                               Text  \n",
       "0  Good Quality Dog Food  I have bought several of the Vitality canned d...  \n",
       "1      Not as Advertised  Product arrived labeled as Jumbo Salted Peanut...  \n",
       "2  \"Delight\" says it all  This is a confection that has been around a fe...  \n",
       "3         Cough Medicine  If you are looking for the secret ingredient i...  \n",
       "4            Great taffy  Great taffy at a great price.  There was a wid...  "
      ]
     },
     "execution_count": 2,
     "metadata": {},
     "output_type": "execute_result"
    }
   ],
   "source": [
    "df = pd.read_csv(\"Reviews.csv\")\n",
    "df.head()"
   ]
  },
  {
   "cell_type": "code",
   "execution_count": 3,
   "metadata": {},
   "outputs": [
    {
     "data": {
      "image/png": "[encoded data removed]",
      "text/plain": [
       "<Figure size 864x504 with 1 Axes>"
      ]
     },
     "metadata": {
      "needs_background": "light"
     },
     "output_type": "display_data"
    }
   ],
   "source": [
    "plt.figure(figsize =(12,7))\n",
    "plt.title(\"Review Stars\")\n",
    "ax = sns.countplot(data = df, x='Score')\n",
    "for i in ax.containers:\n",
    "    ax.bar_label(i,)"
   ]
  },
  {
   "cell_type": "code",
   "execution_count": 4,
   "metadata": {},
   "outputs": [
    {
     "data": {
      "text/plain": [
       "(568454, 10)"
      ]
     },
     "execution_count": 4,
     "metadata": {},
     "output_type": "execute_result"
    }
   ],
   "source": [
    "df.shape"
   ]
  },
  {
   "cell_type": "code",
   "execution_count": 5,
   "metadata": {},
   "outputs": [],
   "source": [
    "Score1_1500 = df[df['Score']==1.0].sample(n=1500)\n",
    "Score2_500 = df[df['Score']==2.0].sample(n=500)\n",
    "Score3_500 = df[df['Score']==3.0].sample(n=500)\n",
    "Score4_500 = df[df['Score']==4.0].sample(n=500)\n",
    "Score5_1500 = df[df['Score']==5.0].sample(n=1500)"
   ]
  },
  {
   "cell_type": "code",
   "execution_count": 6,
   "metadata": {},
   "outputs": [
    {
     "name": "stdout",
     "output_type": "stream",
     "text": [
      "<class 'pandas.core.frame.DataFrame'>\n",
      "Int64Index: 4500 entries, 166164 to 370185\n",
      "Data columns (total 10 columns):\n",
      " #   Column                  Non-Null Count  Dtype \n",
      "---  ------                  --------------  ----- \n",
      " 0   Id                      4500 non-null   int64 \n",
      " 1   ProductId               4500 non-null   object\n",
      " 2   UserId                  4500 non-null   object\n",
      " 3   ProfileName             4500 non-null   object\n",
      " 4   HelpfulnessNumerator    4500 non-null   int64 \n",
      " 5   HelpfulnessDenominator  4500 non-null   int64 \n",
      " 6   Score                   4500 non-null   int64 \n",
      " 7   Time                    4500 non-null   int64 \n",
      " 8   Summary                 4500 non-null   object\n",
      " 9   Text                    4500 non-null   object\n",
      "dtypes: int64(5), object(5)\n",
      "memory usage: 386.7+ KB\n"
     ]
    }
   ],
   "source": [
    "undersampled_df = pd.concat([Score1_1500, Score2_500, Score3_500, Score4_500, Score5_1500], axis=0)\n",
    "undersampled_df.info()"
   ]
  },
  {
   "cell_type": "code",
   "execution_count": 7,
   "metadata": {},
   "outputs": [
    {
     "data": {
      "text/html": [
       "<div>\n",
       "<style scoped>\n",
       "    .dataframe tbody tr th:only-of-type {\n",
       "        vertical-align: middle;\n",
       "    }\n",
       "\n",
       "    .dataframe tbody tr th {\n",
       "        vertical-align: top;\n",
       "    }\n",
       "\n",
       "    .dataframe thead th {\n",
       "        text-align: right;\n",
       "    }\n",
       "</style>\n",
       "<table border=\"1\" class=\"dataframe\">\n",
       "  <thead>\n",
       "    <tr style=\"text-align: right;\">\n",
       "      <th></th>\n",
       "      <th>index</th>\n",
       "      <th>Id</th>\n",
       "      <th>ProductId</th>\n",
       "      <th>UserId</th>\n",
       "      <th>ProfileName</th>\n",
       "      <th>HelpfulnessNumerator</th>\n",
       "      <th>HelpfulnessDenominator</th>\n",
       "      <th>Score</th>\n",
       "      <th>Time</th>\n",
       "      <th>Summary</th>\n",
       "      <th>Text</th>\n",
       "    </tr>\n",
       "  </thead>\n",
       "  <tbody>\n",
       "    <tr>\n",
       "      <th>0</th>\n",
       "      <td>166164</td>\n",
       "      <td>166165</td>\n",
       "      <td>B001CWV4RS</td>\n",
       "      <td>AJ086E9A5FS2S</td>\n",
       "      <td>CJR</td>\n",
       "      <td>4</td>\n",
       "      <td>6</td>\n",
       "      <td>1</td>\n",
       "      <td>1297296000</td>\n",
       "      <td>May not be totally gluten free</td>\n",
       "      <td>I ordered this for my mom, who has Celiac dise...</td>\n",
       "    </tr>\n",
       "    <tr>\n",
       "      <th>1</th>\n",
       "      <td>238979</td>\n",
       "      <td>238980</td>\n",
       "      <td>B003PFWPG4</td>\n",
       "      <td>ANXH017ROPXNB</td>\n",
       "      <td>SMG</td>\n",
       "      <td>0</td>\n",
       "      <td>0</td>\n",
       "      <td>1</td>\n",
       "      <td>1350086400</td>\n",
       "      <td>EXPIRATION DATE 2011.</td>\n",
       "      <td>ThinkThin are my go to protein bars.. I was di...</td>\n",
       "    </tr>\n",
       "    <tr>\n",
       "      <th>2</th>\n",
       "      <td>351209</td>\n",
       "      <td>351210</td>\n",
       "      <td>B0030GT28C</td>\n",
       "      <td>A1TFF0CNRCSILZ</td>\n",
       "      <td>Pierrick Verilhac</td>\n",
       "      <td>2</td>\n",
       "      <td>2</td>\n",
       "      <td>1</td>\n",
       "      <td>1289779200</td>\n",
       "      <td>Dreadful</td>\n",
       "      <td>I picked up a box of those at Target, eager to...</td>\n",
       "    </tr>\n",
       "    <tr>\n",
       "      <th>3</th>\n",
       "      <td>189251</td>\n",
       "      <td>189252</td>\n",
       "      <td>B000SARJO2</td>\n",
       "      <td>A283WPNCWT3GLT</td>\n",
       "      <td>Zhiqiang Wu</td>\n",
       "      <td>3</td>\n",
       "      <td>4</td>\n",
       "      <td>1</td>\n",
       "      <td>1266969600</td>\n",
       "      <td>very low quality Tea</td>\n",
       "      <td>Brought this on amazon.com based on reviews an...</td>\n",
       "    </tr>\n",
       "    <tr>\n",
       "      <th>4</th>\n",
       "      <td>3724</td>\n",
       "      <td>3725</td>\n",
       "      <td>B0045IK1CK</td>\n",
       "      <td>AYSMMOBT0G9BY</td>\n",
       "      <td>boonepharm</td>\n",
       "      <td>0</td>\n",
       "      <td>0</td>\n",
       "      <td>1</td>\n",
       "      <td>1317081600</td>\n",
       "      <td>Seriously???</td>\n",
       "      <td>This one has a major problem. It's waaaay too ...</td>\n",
       "    </tr>\n",
       "  </tbody>\n",
       "</table>\n",
       "</div>"
      ],
      "text/plain": [
       "    index      Id   ProductId          UserId        ProfileName  \\\n",
       "0  166164  166165  B001CWV4RS   AJ086E9A5FS2S                CJR   \n",
       "1  238979  238980  B003PFWPG4   ANXH017ROPXNB                SMG   \n",
       "2  351209  351210  B0030GT28C  A1TFF0CNRCSILZ  Pierrick Verilhac   \n",
       "3  189251  189252  B000SARJO2  A283WPNCWT3GLT        Zhiqiang Wu   \n",
       "4    3724    3725  B0045IK1CK   AYSMMOBT0G9BY         boonepharm   \n",
       "\n",
       "   HelpfulnessNumerator  HelpfulnessDenominator  Score        Time  \\\n",
       "0                     4                       6      1  1297296000   \n",
       "1                     0                       0      1  1350086400   \n",
       "2                     2                       2      1  1289779200   \n",
       "3                     3                       4      1  1266969600   \n",
       "4                     0                       0      1  1317081600   \n",
       "\n",
       "                          Summary  \\\n",
       "0  May not be totally gluten free   \n",
       "1           EXPIRATION DATE 2011.   \n",
       "2                        Dreadful   \n",
       "3            very low quality Tea   \n",
       "4                    Seriously???   \n",
       "\n",
       "                                                Text  \n",
       "0  I ordered this for my mom, who has Celiac dise...  \n",
       "1  ThinkThin are my go to protein bars.. I was di...  \n",
       "2  I picked up a box of those at Target, eager to...  \n",
       "3  Brought this on amazon.com based on reviews an...  \n",
       "4  This one has a major problem. It's waaaay too ...  "
      ]
     },
     "execution_count": 7,
     "metadata": {},
     "output_type": "execute_result"
    }
   ],
   "source": [
    "undersampled_df = undersampled_df.reset_index()\n",
    "undersampled_df.head()"
   ]
  },
  {
   "cell_type": "markdown",
   "metadata": {},
   "source": [
    "Basic NLTK"
   ]
  },
  {
   "cell_type": "code",
   "execution_count": 8,
   "metadata": {},
   "outputs": [],
   "source": [
    "import nltk"
   ]
  },
  {
   "cell_type": "code",
   "execution_count": 9,
   "metadata": {},
   "outputs": [
    {
     "name": "stdout",
     "output_type": "stream",
     "text": [
      "ThinkThin are my go to protein bars.. I was disappointed when opening the box to find expiration dates of 2011.. Also, I was not advised on shipping issues with street address/po box and the order was listed as bad address return to shipper. Had to get someone to drive to bulk mail office in another town to stop return..\n"
     ]
    }
   ],
   "source": [
    "example = undersampled_df['Text'][1]\n",
    "print(example)"
   ]
  },
  {
   "cell_type": "code",
   "execution_count": 10,
   "metadata": {},
   "outputs": [
    {
     "data": {
      "text/plain": [
       "['ThinkThin', 'are', 'my', 'go', 'to', 'protein', 'bars', '..', 'I', 'was']"
      ]
     },
     "execution_count": 10,
     "metadata": {},
     "output_type": "execute_result"
    }
   ],
   "source": [
    "tokens = nltk.word_tokenize(example)\n",
    "tokens[:10]"
   ]
  },
  {
   "cell_type": "code",
   "execution_count": 11,
   "metadata": {},
   "outputs": [
    {
     "data": {
      "text/plain": [
       "[('ThinkThin', 'NN'),\n",
       " ('are', 'VBP'),\n",
       " ('my', 'PRP$'),\n",
       " ('go', 'NN'),\n",
       " ('to', 'TO'),\n",
       " ('protein', 'VB'),\n",
       " ('bars', 'NNS'),\n",
       " ('..', 'VBP'),\n",
       " ('I', 'PRP'),\n",
       " ('was', 'VBD')]"
      ]
     },
     "execution_count": 11,
     "metadata": {},
     "output_type": "execute_result"
    }
   ],
   "source": [
    "tagged = nltk.pos_tag(tokens)\n",
    "tagged[:10]"
   ]
  },
  {
   "cell_type": "code",
   "execution_count": 12,
   "metadata": {},
   "outputs": [
    {
     "name": "stdout",
     "output_type": "stream",
     "text": [
      "(S\n",
      "  ThinkThin/NN\n",
      "  are/VBP\n",
      "  my/PRP$\n",
      "  go/NN\n",
      "  to/TO\n",
      "  protein/VB\n",
      "  bars/NNS\n",
      "  ../VBP\n",
      "  I/PRP\n",
      "  was/VBD\n",
      "  disappointed/VBN\n",
      "  when/WRB\n",
      "  opening/VBG\n",
      "  the/DT\n",
      "  box/NN\n",
      "  to/TO\n",
      "  find/VB\n",
      "  expiration/NN\n",
      "  dates/NNS\n",
      "  of/IN\n",
      "  2011/CD\n",
      "  ../NNP\n",
      "  Also/RB\n",
      "  ,/,\n",
      "  I/PRP\n",
      "  was/VBD\n",
      "  not/RB\n",
      "  advised/VBN\n",
      "  on/IN\n",
      "  shipping/VBG\n",
      "  issues/NNS\n",
      "  with/IN\n",
      "  street/NN\n",
      "  address/po/NNS\n",
      "  box/NN\n",
      "  and/CC\n",
      "  the/DT\n",
      "  order/NN\n",
      "  was/VBD\n",
      "  listed/VBN\n",
      "  as/IN\n",
      "  bad/JJ\n",
      "  address/NN\n",
      "  return/NN\n",
      "  to/TO\n",
      "  shipper/VB\n",
      "  ./.\n",
      "  Had/NNP\n",
      "  to/TO\n",
      "  get/VB\n",
      "  someone/NN\n",
      "  to/TO\n",
      "  drive/VB\n",
      "  to/TO\n",
      "  bulk/VB\n",
      "  mail/NN\n",
      "  office/NN\n",
      "  in/IN\n",
      "  another/DT\n",
      "  town/NN\n",
      "  to/TO\n",
      "  stop/VB\n",
      "  return/NN\n",
      "  ../NN)\n"
     ]
    }
   ],
   "source": [
    "entities = nltk.chunk.ne_chunk(tagged)\n",
    "entities.pprint()"
   ]
  },
  {
   "cell_type": "markdown",
   "metadata": {},
   "source": [
    "VADER Seniment Scoring"
   ]
  },
  {
   "cell_type": "code",
   "execution_count": 13,
   "metadata": {},
   "outputs": [],
   "source": [
    "from nltk.sentiment import SentimentIntensityAnalyzer\n",
    "from tqdm.notebook import tqdm\n",
    "sia = SentimentIntensityAnalyzer()"
   ]
  },
  {
   "cell_type": "code",
   "execution_count": 14,
   "metadata": {},
   "outputs": [
    {
     "name": "stdout",
     "output_type": "stream",
     "text": [
      "ThinkThin are my go to protein bars.. I was disappointed when opening the box to find expiration dates of 2011.. Also, I was not advised on shipping issues with street address/po box and the order was listed as bad address return to shipper. Had to get someone to drive to bulk mail office in another town to stop return..\n"
     ]
    },
    {
     "data": {
      "text/plain": [
       "{'neg': 0.14, 'neu': 0.86, 'pos': 0.0, 'compound': -0.8316}"
      ]
     },
     "execution_count": 14,
     "metadata": {},
     "output_type": "execute_result"
    }
   ],
   "source": [
    "print(example)\n",
    "sia.polarity_scores(example)"
   ]
  },
  {
   "cell_type": "code",
   "execution_count": 15,
   "metadata": {},
   "outputs": [
    {
     "data": {
      "application/vnd.jupyter.widget-view+json": {
       "model_id": "7fec1388b9d04346a997993a46f92145",
       "version_major": 2,
       "version_minor": 0
      },
      "text/plain": [
       "  0%|          | 0/4500 [00:00<?, ?it/s]"
      ]
     },
     "metadata": {},
     "output_type": "display_data"
    }
   ],
   "source": [
    "res = {}\n",
    "for i, row in tqdm(undersampled_df.iterrows(), total=len(undersampled_df)):\n",
    "    text = row['Text']\n",
    "    myid = row['Id']\n",
    "    res[myid] = sia.polarity_scores(text)"
   ]
  },
  {
   "cell_type": "code",
   "execution_count": 16,
   "metadata": {},
   "outputs": [
    {
     "data": {
      "text/html": [
       "<div>\n",
       "<style scoped>\n",
       "    .dataframe tbody tr th:only-of-type {\n",
       "        vertical-align: middle;\n",
       "    }\n",
       "\n",
       "    .dataframe tbody tr th {\n",
       "        vertical-align: top;\n",
       "    }\n",
       "\n",
       "    .dataframe thead th {\n",
       "        text-align: right;\n",
       "    }\n",
       "</style>\n",
       "<table border=\"1\" class=\"dataframe\">\n",
       "  <thead>\n",
       "    <tr style=\"text-align: right;\">\n",
       "      <th></th>\n",
       "      <th>Id</th>\n",
       "      <th>neg</th>\n",
       "      <th>neu</th>\n",
       "      <th>pos</th>\n",
       "      <th>compound</th>\n",
       "      <th>ProductId</th>\n",
       "      <th>UserId</th>\n",
       "      <th>ProfileName</th>\n",
       "      <th>HelpfulnessNumerator</th>\n",
       "      <th>HelpfulnessDenominator</th>\n",
       "      <th>Score</th>\n",
       "      <th>Time</th>\n",
       "      <th>Summary</th>\n",
       "      <th>Text</th>\n",
       "    </tr>\n",
       "  </thead>\n",
       "  <tbody>\n",
       "    <tr>\n",
       "      <th>0</th>\n",
       "      <td>166165</td>\n",
       "      <td>0.123</td>\n",
       "      <td>0.877</td>\n",
       "      <td>0.000</td>\n",
       "      <td>-0.5423</td>\n",
       "      <td>B001CWV4RS</td>\n",
       "      <td>AJ086E9A5FS2S</td>\n",
       "      <td>CJR</td>\n",
       "      <td>4</td>\n",
       "      <td>6</td>\n",
       "      <td>1</td>\n",
       "      <td>1297296000</td>\n",
       "      <td>May not be totally gluten free</td>\n",
       "      <td>I ordered this for my mom, who has Celiac dise...</td>\n",
       "    </tr>\n",
       "    <tr>\n",
       "      <th>1</th>\n",
       "      <td>238980</td>\n",
       "      <td>0.140</td>\n",
       "      <td>0.860</td>\n",
       "      <td>0.000</td>\n",
       "      <td>-0.8316</td>\n",
       "      <td>B003PFWPG4</td>\n",
       "      <td>ANXH017ROPXNB</td>\n",
       "      <td>SMG</td>\n",
       "      <td>0</td>\n",
       "      <td>0</td>\n",
       "      <td>1</td>\n",
       "      <td>1350086400</td>\n",
       "      <td>EXPIRATION DATE 2011.</td>\n",
       "      <td>ThinkThin are my go to protein bars.. I was di...</td>\n",
       "    </tr>\n",
       "    <tr>\n",
       "      <th>2</th>\n",
       "      <td>351210</td>\n",
       "      <td>0.073</td>\n",
       "      <td>0.735</td>\n",
       "      <td>0.192</td>\n",
       "      <td>0.8402</td>\n",
       "      <td>B0030GT28C</td>\n",
       "      <td>A1TFF0CNRCSILZ</td>\n",
       "      <td>Pierrick Verilhac</td>\n",
       "      <td>2</td>\n",
       "      <td>2</td>\n",
       "      <td>1</td>\n",
       "      <td>1289779200</td>\n",
       "      <td>Dreadful</td>\n",
       "      <td>I picked up a box of those at Target, eager to...</td>\n",
       "    </tr>\n",
       "    <tr>\n",
       "      <th>3</th>\n",
       "      <td>189252</td>\n",
       "      <td>0.176</td>\n",
       "      <td>0.824</td>\n",
       "      <td>0.000</td>\n",
       "      <td>-0.8459</td>\n",
       "      <td>B000SARJO2</td>\n",
       "      <td>A283WPNCWT3GLT</td>\n",
       "      <td>Zhiqiang Wu</td>\n",
       "      <td>3</td>\n",
       "      <td>4</td>\n",
       "      <td>1</td>\n",
       "      <td>1266969600</td>\n",
       "      <td>very low quality Tea</td>\n",
       "      <td>Brought this on amazon.com based on reviews an...</td>\n",
       "    </tr>\n",
       "    <tr>\n",
       "      <th>4</th>\n",
       "      <td>3725</td>\n",
       "      <td>0.126</td>\n",
       "      <td>0.821</td>\n",
       "      <td>0.053</td>\n",
       "      <td>-0.7241</td>\n",
       "      <td>B0045IK1CK</td>\n",
       "      <td>AYSMMOBT0G9BY</td>\n",
       "      <td>boonepharm</td>\n",
       "      <td>0</td>\n",
       "      <td>0</td>\n",
       "      <td>1</td>\n",
       "      <td>1317081600</td>\n",
       "      <td>Seriously???</td>\n",
       "      <td>This one has a major problem. It's waaaay too ...</td>\n",
       "    </tr>\n",
       "  </tbody>\n",
       "</table>\n",
       "</div>"
      ],
      "text/plain": [
       "       Id    neg    neu    pos  compound   ProductId          UserId  \\\n",
       "0  166165  0.123  0.877  0.000   -0.5423  B001CWV4RS   AJ086E9A5FS2S   \n",
       "1  238980  0.140  0.860  0.000   -0.8316  B003PFWPG4   ANXH017ROPXNB   \n",
       "2  351210  0.073  0.735  0.192    0.8402  B0030GT28C  A1TFF0CNRCSILZ   \n",
       "3  189252  0.176  0.824  0.000   -0.8459  B000SARJO2  A283WPNCWT3GLT   \n",
       "4    3725  0.126  0.821  0.053   -0.7241  B0045IK1CK   AYSMMOBT0G9BY   \n",
       "\n",
       "         ProfileName  HelpfulnessNumerator  HelpfulnessDenominator  Score  \\\n",
       "0                CJR                     4                       6      1   \n",
       "1                SMG                     0                       0      1   \n",
       "2  Pierrick Verilhac                     2                       2      1   \n",
       "3        Zhiqiang Wu                     3                       4      1   \n",
       "4         boonepharm                     0                       0      1   \n",
       "\n",
       "         Time                         Summary  \\\n",
       "0  1297296000  May not be totally gluten free   \n",
       "1  1350086400           EXPIRATION DATE 2011.   \n",
       "2  1289779200                        Dreadful   \n",
       "3  1266969600            very low quality Tea   \n",
       "4  1317081600                    Seriously???   \n",
       "\n",
       "                                                Text  \n",
       "0  I ordered this for my mom, who has Celiac dise...  \n",
       "1  ThinkThin are my go to protein bars.. I was di...  \n",
       "2  I picked up a box of those at Target, eager to...  \n",
       "3  Brought this on amazon.com based on reviews an...  \n",
       "4  This one has a major problem. It's waaaay too ...  "
      ]
     },
     "execution_count": 16,
     "metadata": {},
     "output_type": "execute_result"
    }
   ],
   "source": [
    "vaders = pd.DataFrame(res).T\n",
    "vaders = vaders.reset_index().rename(columns={'index': 'Id'})\n",
    "vaders = vaders.merge(df, how='left')\n",
    "vaders.head()"
   ]
  },
  {
   "cell_type": "code",
   "execution_count": 17,
   "metadata": {},
   "outputs": [
    {
     "data": {
      "text/plain": [
       "positive    3364\n",
       "negative     981\n",
       "neutral      155\n",
       "Name: swn_sentiment, dtype: int64"
      ]
     },
     "execution_count": 17,
     "metadata": {},
     "output_type": "execute_result"
    }
   ],
   "source": [
    "vaders['swn_sentiment'] = vaders['compound'].apply(lambda x: \"positive\" if x>0.05 else (\"negative\" if x<-0.05 else \"neutral\"))\n",
    "vaders['swn_sentiment'].value_counts(dropna=False)"
   ]
  },
  {
   "cell_type": "code",
   "execution_count": 18,
   "metadata": {},
   "outputs": [
    {
     "data": {
      "text/plain": [
       "<AxesSubplot:xlabel='Score', ylabel='count'>"
      ]
     },
     "execution_count": 18,
     "metadata": {},
     "output_type": "execute_result"
    },
    {
     "data": {
      "image/png": "[encoded data removed]",
      "text/plain": [
       "<Figure size 432x288 with 1 Axes>"
      ]
     },
     "metadata": {
      "needs_background": "light"
     },
     "output_type": "display_data"
    }
   ],
   "source": [
    "sns.countplot(x='Score', hue='swn_sentiment' ,data = vaders)\n"
   ]
  },
  {
   "cell_type": "code",
   "execution_count": 19,
   "metadata": {},
   "outputs": [],
   "source": [
    "from transformers import AutoTokenizer\n",
    "from transformers import AutoModelForSequenceClassification\n",
    "from scipy.special import softmax"
   ]
  },
  {
   "cell_type": "code",
   "execution_count": 20,
   "metadata": {},
   "outputs": [
    {
     "data": {
      "application/vnd.jupyter.widget-view+json": {
       "model_id": "b61fda1487db4fa1b4e60fc6ee10eab6",
       "version_major": 2,
       "version_minor": 0
      },
      "text/plain": [
       "Downloading:   0%|          | 0.00/499M [00:00<?, ?B/s]"
      ]
     },
     "metadata": {},
     "output_type": "display_data"
    },
    {
     "name": "stderr",
     "output_type": "stream",
     "text": [
      "c:\\Users\\thanh\\anaconda3\\lib\\site-packages\\huggingface_hub\\file_download.py:127: UserWarning: `huggingface_hub` cache-system uses symlinks by default to efficiently store duplicated files but your machine does not support them in C:\\Users\\thanh\\.cache\\huggingface\\hub. Caching files will still work but in a degraded version that might require more space on your disk. This warning can be disabled by setting the `HF_HUB_DISABLE_SYMLINKS_WARNING` environment variable. For more details, see https://huggingface.co/docs/huggingface_hub/how-to-cache#limitations.\n",
      "To support symlinks on Windows, you either need to activate Developer Mode or to run Python as an administrator. In order to see activate developer mode, see this article: https://docs.microsoft.com/en-us/windows/apps/get-started/enable-your-device-for-development\n",
      "  warnings.warn(message)\n"
     ]
    }
   ],
   "source": [
    "MODEL = f\"cardiffnlp/twitter-roberta-base-sentiment\"\n",
    "tokenizer = AutoTokenizer.from_pretrained(MODEL)\n",
    "model = AutoModelForSequenceClassification.from_pretrained(MODEL)"
   ]
  },
  {
   "cell_type": "code",
   "execution_count": 22,
   "metadata": {},
   "outputs": [
    {
     "name": "stdout",
     "output_type": "stream",
     "text": [
      "ThinkThin are my go to protein bars.. I was disappointed when opening the box to find expiration dates of 2011.. Also, I was not advised on shipping issues with street address/po box and the order was listed as bad address return to shipper. Had to get someone to drive to bulk mail office in another town to stop return..\n"
     ]
    },
    {
     "data": {
      "text/plain": [
       "{'neg': 0.14, 'neu': 0.86, 'pos': 0.0, 'compound': -0.8316}"
      ]
     },
     "execution_count": 22,
     "metadata": {},
     "output_type": "execute_result"
    }
   ],
   "source": [
    "# VADER results on example\n",
    "print(example)\n",
    "sia.polarity_scores(example)"
   ]
  },
  {
   "cell_type": "code",
   "execution_count": 21,
   "metadata": {},
   "outputs": [
    {
     "name": "stdout",
     "output_type": "stream",
     "text": [
      "{'roberta_neg': 0.8742521, 'roberta_neu': 0.114438966, 'roberta_pos': 0.011308881}\n"
     ]
    }
   ],
   "source": [
    "encoded_text = tokenizer(example, return_tensors='pt')\n",
    "output = model(**encoded_text)\n",
    "scores = output[0][0].detach().numpy()\n",
    "scores = softmax(scores)\n",
    "scores_dict = {\n",
    "    'roberta_neg' : scores[0],\n",
    "    'roberta_neu' : scores[1],\n",
    "    'roberta_pos' : scores[2]\n",
    "}\n",
    "print(scores_dict)"
   ]
  }
 ],
 "metadata": {
  "kernelspec": {
   "display_name": "Python 3 (ipykernel)",
   "language": "python",
   "name": "python3"
  },
  "language_info": {
   "codemirror_mode": {
    "name": "ipython",
    "version": 3
   },
   "file_extension": ".py",
   "mimetype": "text/x-python",
   "name": "python",
   "nbconvert_exporter": "python",
   "pygments_lexer": "ipython3",
   "version": "3.9.12"
  },
  "vscode": {
   "interpreter": {
    "hash": "e3a18842cd88223d2eea50a134bb96e0584ccfa9a42436ff53b4efa05bbcefc4"
   }
  }
 },
 "nbformat": 4,
 "nbformat_minor": 2
}
